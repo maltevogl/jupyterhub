{
 "cells": [
  {
   "cell_type": "code",
   "execution_count": 2,
   "metadata": {
    "collapsed": false
   },
   "outputs": [],
   "source": [
    "import sys,os, subprocess\n",
    "import getpass\n",
    "\n",
    "credpath = os.path.expanduser('~') + '/.davcreds'\n",
    "nbpath = os.path.expanduser('~') + '/Notebooks'\n",
    "fusepath = os.path.expanduser('~') + '/dav'\n",
    "davurl = 'davs://oc.rz-berlin.mpg.de/owncloud/remote.php/webdav/Notebooks'\n",
    "davpath = os.path.expanduser('~') + '/dav/dav\\:host\\=oc.rz-berlin.mpg.de\\,ssl\\=true\\,prefix\\=%2Fowncloud%2Fremote.php%2Fwebdav/Notebooks/'\n",
    "\n",
    "def run(command, print_output=True):\n",
    "    from subprocess import Popen, PIPE, STDOUT\n",
    "    from io import StringIO\n",
    "\n",
    "    popen = Popen(command, stdout=PIPE, stderr=STDOUT, universal_newlines=True)\n",
    "    out = StringIO()\n",
    "    for line in popen.stdout:\n",
    "        if print_output:\n",
    "            print(line, end='')\n",
    "        else:\n",
    "            out.write(line)\n",
    "\n",
    "    popen.stdout.close()\n",
    "    return_code = popen.wait()\n",
    "\n",
    "    if not return_code == 0:\n",
    "        raise RuntimeError(\n",
    "            'The process call \"{}\" returned with code {}. The return code is not 0, thus an error '\n",
    "            'occurred.'.format(list(command), return_code))\n",
    "\n",
    "    stdout_string = out.getvalue()\n",
    "    out.close()\n",
    "\n",
    "    return stdout_string"
   ]
  },
  {
   "cell_type": "code",
   "execution_count": 10,
   "metadata": {
    "collapsed": false
   },
   "outputs": [
    {
     "name": "stdout",
     "output_type": "stream",
     "text": [
      "Please enter the username for owncloud:mvogl\n",
      "Please enter the corresponding password:········\n"
     ]
    }
   ],
   "source": [
    "if os.path.exists(credpath):\n",
    "    print(\"Continue\")\n",
    "else:\n",
    "    with open(credpath, 'w') as out:\n",
    "        username = input(\"Please enter the username for owncloud:\")\n",
    "        password = getpass.getpass(\"Please enter the corresponding password:\")\n",
    "        out.write(username + '\\n' + password + '\\n')\n",
    "    subprocess.call(['chmod', '600', credpath])"
   ]
  },
  {
   "cell_type": "code",
   "execution_count": 77,
   "metadata": {
    "collapsed": true
   },
   "outputs": [],
   "source": [
    "if not os.path.exists(fusepath):\n",
    "    os.makedirs(fusepath)\n",
    "    run(['/usr/lib/gvfs/gvfsd-fuse', fusepath])"
   ]
  },
  {
   "cell_type": "code",
   "execution_count": 78,
   "metadata": {
    "collapsed": false
   },
   "outputs": [
    {
     "name": "stdout",
     "output_type": "stream",
     "text": [
      "Fehler beim Einhängen des Ortes: Datenträger unterstützt Einhängen nicht\n",
      "Fehler beim Einhängen des Ortes: Datenträger unterstützt Einhängen nicht\n"
     ]
    },
    {
     "ename": "RuntimeError",
     "evalue": "The process call \"['gvfs-mount', 'davs://oc.rz-berlin.mpg.de/owncloud/remote.php/webdav/Notebooks', ' <', '/home/malte/.davcreds']\" returned with code 2. The return code is not 0, thus an error occurred.",
     "output_type": "error",
     "traceback": [
      "\u001b[0;31m---------------------------------------------------------------------------\u001b[0m",
      "\u001b[0;31mRuntimeError\u001b[0m                              Traceback (most recent call last)",
      "\u001b[0;32m<ipython-input-78-60d05841eacd>\u001b[0m in \u001b[0;36m<module>\u001b[0;34m()\u001b[0m\n\u001b[0;32m----> 1\u001b[0;31m \u001b[0mrun\u001b[0m\u001b[0;34m(\u001b[0m\u001b[0;34m[\u001b[0m\u001b[0;34m'gvfs-mount'\u001b[0m\u001b[0;34m,\u001b[0m \u001b[0mdavurl\u001b[0m\u001b[0;34m,\u001b[0m\u001b[0;34m' <'\u001b[0m\u001b[0;34m,\u001b[0m\u001b[0mcredpath\u001b[0m\u001b[0;34m]\u001b[0m\u001b[0;34m)\u001b[0m\u001b[0;34m\u001b[0m\u001b[0m\n\u001b[0m",
      "\u001b[0;32m<ipython-input-66-51f88d1226aa>\u001b[0m in \u001b[0;36mrun\u001b[0;34m(command, print_output)\u001b[0m\n\u001b[1;32m     17\u001b[0m         raise RuntimeError(\n\u001b[1;32m     18\u001b[0m             \u001b[0;34m'The process call \"{}\" returned with code {}. The return code is not 0, thus an error '\u001b[0m\u001b[0;34m\u001b[0m\u001b[0m\n\u001b[0;32m---> 19\u001b[0;31m             'occurred.'.format(list(command), return_code))\n\u001b[0m\u001b[1;32m     20\u001b[0m \u001b[0;34m\u001b[0m\u001b[0m\n\u001b[1;32m     21\u001b[0m     \u001b[0mstdout_string\u001b[0m \u001b[0;34m=\u001b[0m \u001b[0mout\u001b[0m\u001b[0;34m.\u001b[0m\u001b[0mgetvalue\u001b[0m\u001b[0;34m(\u001b[0m\u001b[0;34m)\u001b[0m\u001b[0;34m\u001b[0m\u001b[0m\n",
      "\u001b[0;31mRuntimeError\u001b[0m: The process call \"['gvfs-mount', 'davs://oc.rz-berlin.mpg.de/owncloud/remote.php/webdav/Notebooks', ' <', '/home/malte/.davcreds']\" returned with code 2. The return code is not 0, thus an error occurred."
     ]
    }
   ],
   "source": [
    "run(['gvfs-mount', davurl,' <',credpath])"
   ]
  },
  {
   "cell_type": "code",
   "execution_count": 82,
   "metadata": {
    "collapsed": false
   },
   "outputs": [
    {
     "name": "stdout",
     "output_type": "stream",
     "text": [
      " < .gitconfig\n"
     ]
    },
    {
     "data": {
      "text/plain": [
       "''"
      ]
     },
     "execution_count": 82,
     "metadata": {},
     "output_type": "execute_result"
    }
   ],
   "source": [
    "run([\"echo\",\" <\",\".gitconfig\"])"
   ]
  },
  {
   "cell_type": "code",
   "execution_count": 118,
   "metadata": {
    "collapsed": false
   },
   "outputs": [
    {
     "name": "stdout",
     "output_type": "stream",
     "text": [
      "b''\n"
     ]
    }
   ],
   "source": [
    "p = subprocess.Popen(['gvfs-mount',davurl],stdout=subprocess.PIPE,stdin=subprocess.PIPE)\n",
    "p.stdin.write(bytes(credpath,encoding='utf-8'))\n",
    "print(p.communicate()[0])\n",
    "\n",
    "p.stdin.close()"
   ]
  },
  {
   "cell_type": "code",
   "execution_count": 117,
   "metadata": {
    "collapsed": false
   },
   "outputs": [
    {
     "data": {
      "text/plain": [
       "b'/home/malte/.davcreds'"
      ]
     },
     "execution_count": 117,
     "metadata": {},
     "output_type": "execute_result"
    }
   ],
   "source": []
  },
  {
   "cell_type": "code",
   "execution_count": null,
   "metadata": {
    "collapsed": true
   },
   "outputs": [],
   "source": []
  }
 ],
 "metadata": {
  "kernelspec": {
   "display_name": "Python 3",
   "language": "python",
   "name": "python3"
  },
  "language_info": {
   "codemirror_mode": {
    "name": "ipython",
    "version": 3
   },
   "file_extension": ".py",
   "mimetype": "text/x-python",
   "name": "python",
   "nbconvert_exporter": "python",
   "pygments_lexer": "ipython3",
   "version": "3.5.2"
  },
  "nav_menu": {},
  "toc": {
   "navigate_menu": true,
   "number_sections": true,
   "sideBar": true,
   "threshold": 6,
   "toc_cell": false,
   "toc_section_display": "block",
   "toc_window_display": false
  }
 },
 "nbformat": 4,
 "nbformat_minor": 1
}
